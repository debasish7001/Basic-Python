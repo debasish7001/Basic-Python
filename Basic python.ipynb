{
 "cells": [
  {
   "cell_type": "markdown",
   "id": "1c401691",
   "metadata": {},
   "source": [
    "# sum of two number"
   ]
  },
  {
   "cell_type": "code",
   "execution_count": 1,
   "id": "5ed1c2f3",
   "metadata": {},
   "outputs": [
    {
     "name": "stdout",
     "output_type": "stream",
     "text": [
      "enter the first number1\n",
      "enter the second number2\n",
      "3.0\n"
     ]
    }
   ],
   "source": [
    "number1=float(input(\"enter the first number\"))\n",
    "number2=float(input(\"enter the second number\"))\n",
    "sum=number1+number2\n",
    "print(sum)"
   ]
  },
  {
   "cell_type": "markdown",
   "id": "21f2a65c",
   "metadata": {},
   "source": [
    "# cube of a number"
   ]
  },
  {
   "cell_type": "code",
   "execution_count": 3,
   "id": "a5a1e42b",
   "metadata": {},
   "outputs": [
    {
     "name": "stdout",
     "output_type": "stream",
     "text": [
      "enter the number3\n",
      "27.0\n"
     ]
    }
   ],
   "source": [
    "number=float(input(\"enter the number\"))\n",
    "#result=number*number*number\n",
    "result=number**3\n",
    "print(result)"
   ]
  },
  {
   "cell_type": "markdown",
   "id": "03756676",
   "metadata": {},
   "source": [
    "# find largest number"
   ]
  },
  {
   "cell_type": "code",
   "execution_count": 4,
   "id": "c4fd2b81",
   "metadata": {},
   "outputs": [
    {
     "name": "stdout",
     "output_type": "stream",
     "text": [
      "enter the value of a :12\n",
      "enter the value of b :45\n",
      "b is the largest number\n"
     ]
    }
   ],
   "source": [
    "a=float(input(\"enter the value of a :\"))\n",
    "b=float(input(\"enter the value of b :\"))\n",
    "if a>b:\n",
    "    print(\"a is the largest number\")\n",
    "else:\n",
    "    print(\"b is the largest number\")"
   ]
  },
  {
   "cell_type": "code",
   "execution_count": 5,
   "id": "269c1ffe",
   "metadata": {},
   "outputs": [
    {
     "name": "stdout",
     "output_type": "stream",
     "text": [
      "enter the value of a :12\n",
      "enter the value of b :13\n",
      "enter the value of c :45\n",
      "c is the largest number\n"
     ]
    }
   ],
   "source": [
    "a=float(input(\"enter the value of a :\"))\n",
    "b=float(input(\"enter the value of b :\"))\n",
    "c=float(input(\"enter the value of c :\"))\n",
    "if a>b and a>c:\n",
    "    print(\"a is the largest number\")\n",
    "elif b>a and b>c:\n",
    "    print(\"b is the largest number\")\n",
    "elif c>a and c>b:\n",
    "    print(\"c is the largest number\")\n",
    "else:\n",
    "    print(\"all are equal\")"
   ]
  },
  {
   "cell_type": "markdown",
   "id": "e6c88751",
   "metadata": {},
   "source": [
    "# print list of number"
   ]
  },
  {
   "cell_type": "code",
   "execution_count": 12,
   "id": "c5ebfcd9",
   "metadata": {},
   "outputs": [
    {
     "name": "stdout",
     "output_type": "stream",
     "text": [
      "0\n",
      "1\n",
      "2\n",
      "3\n",
      "4\n",
      "5\n",
      "6\n",
      "7\n",
      "8\n",
      "9\n",
      "10\n"
     ]
    }
   ],
   "source": [
    "i=0\n",
    "while i<=10:\n",
    "    print(i)\n",
    "    i+=1"
   ]
  },
  {
   "cell_type": "markdown",
   "id": "c761b720",
   "metadata": {},
   "source": [
    "# find leaper year"
   ]
  },
  {
   "cell_type": "code",
   "execution_count": 8,
   "id": "dcbf5646",
   "metadata": {},
   "outputs": [
    {
     "name": "stdout",
     "output_type": "stream",
     "text": [
      "enter the year :2020\n",
      "this is leaper\n"
     ]
    }
   ],
   "source": [
    "year=int(input(\"enter the year :\"))\n",
    "if (year%400==0) or (year%4==0 and year%100!=0):\n",
    "    print(\"this is leaper\")\n",
    "else:\n",
    "    print(\"this is not leaper\")"
   ]
  },
  {
   "cell_type": "markdown",
   "id": "65c9f80d",
   "metadata": {},
   "source": [
    "# find odd or even number"
   ]
  },
  {
   "cell_type": "code",
   "execution_count": 9,
   "id": "d234e925",
   "metadata": {},
   "outputs": [
    {
     "name": "stdout",
     "output_type": "stream",
     "text": [
      "enter the number2\n",
      "this is even number\n"
     ]
    }
   ],
   "source": [
    "number=int(input(\"enter the number\"))\n",
    "if number%2==0:\n",
    "    print(\"this is even number\")\n",
    "else:\n",
    "    print(\"this is odd number\")\n"
   ]
  },
  {
   "cell_type": "markdown",
   "id": "769177e5",
   "metadata": {},
   "source": [
    "# to find positive or negative number"
   ]
  },
  {
   "cell_type": "code",
   "execution_count": 13,
   "id": "b83305f7",
   "metadata": {},
   "outputs": [
    {
     "name": "stdout",
     "output_type": "stream",
     "text": [
      "enter the number25\n",
      "the number is positive\n"
     ]
    }
   ],
   "source": [
    "number=int(input(\"enter the number\"))\n",
    "if number>0:\n",
    "    print(\"the number is positive\")\n",
    "elif number<0:\n",
    "    print(\"the number is negative\")\n",
    "else:\n",
    "    print(\"the number is zero\")\n",
    "    "
   ]
  },
  {
   "cell_type": "markdown",
   "id": "bed8c2fb",
   "metadata": {},
   "source": [
    "# Python Square root program"
   ]
  },
  {
   "cell_type": "code",
   "execution_count": 15,
   "id": "c8e17c90",
   "metadata": {},
   "outputs": [
    {
     "name": "stdout",
     "output_type": "stream",
     "text": [
      "enter the number36\n",
      "6.0\n"
     ]
    }
   ],
   "source": [
    "number=float(input(\"enter the number\"))\n",
    "#squareroot=pow(number,0.5)\n",
    "squareroot=number**0.5\n",
    "print(squareroot)"
   ]
  },
  {
   "cell_type": "markdown",
   "id": "7c2a0c66",
   "metadata": {},
   "source": [
    "# find the number of divisor"
   ]
  },
  {
   "cell_type": "code",
   "execution_count": 16,
   "id": "2d42b0d1",
   "metadata": {},
   "outputs": [
    {
     "name": "stdout",
     "output_type": "stream",
     "text": [
      "enter the number25\n",
      "1\n",
      "5\n",
      "25\n"
     ]
    }
   ],
   "source": [
    "number=int(input(\"enter the number\"))\n",
    "for i in range(1,number+1):\n",
    "    if number%i==0:\n",
    "        print(i)"
   ]
  },
  {
   "cell_type": "markdown",
   "id": "511f04d1",
   "metadata": {},
   "source": [
    "# divisible by 5 and 11"
   ]
  },
  {
   "cell_type": "code",
   "execution_count": 17,
   "id": "423927d3",
   "metadata": {},
   "outputs": [
    {
     "name": "stdout",
     "output_type": "stream",
     "text": [
      "enter the number55\n",
      "divisible by 5 and 11\n"
     ]
    }
   ],
   "source": [
    "number=int(input(\"enter the number\"))\n",
    "if number%5==0 and number%11==0:\n",
    "    print(\"divisible by 5 and 11\")\n",
    "else:\n",
    "    print(\"Not divisible by 5 and 11\")"
   ]
  },
  {
   "cell_type": "markdown",
   "id": "9da375a2",
   "metadata": {},
   "source": [
    "# multiplication table"
   ]
  },
  {
   "cell_type": "code",
   "execution_count": 18,
   "id": "5c75218a",
   "metadata": {},
   "outputs": [
    {
     "name": "stdout",
     "output_type": "stream",
     "text": [
      "multiplication table 2\n",
      "......................\n",
      "2\n",
      "4\n",
      "6\n",
      "8\n",
      "10\n",
      "12\n",
      "14\n",
      "16\n",
      "18\n",
      "20\n"
     ]
    }
   ],
   "source": [
    "\n",
    "number=int(input(\"multiplication table \"))\n",
    "print(\"......................\")\n",
    "for i in range(1,11):\n",
    "     print(number*i)"
   ]
  },
  {
   "cell_type": "markdown",
   "id": "c47469d9",
   "metadata": {},
   "source": [
    "# find the root of quadratic equation"
   ]
  },
  {
   "cell_type": "code",
   "execution_count": 19,
   "id": "7921e341",
   "metadata": {},
   "outputs": [
    {
     "name": "stdout",
     "output_type": "stream",
     "text": [
      "enter the number a 2\n",
      "enter the number b 3\n",
      "enter the number c 5\n",
      "(-2.9999999999999964+55.67764362830022j) (-3.0000000000000036-55.67764362830022j)\n"
     ]
    }
   ],
   "source": [
    "a=int(input(\"enter the number a \"))\n",
    "b=int(input(\"enter the number b \"))\n",
    "c=int(input(\"enter the number c \"))\n",
    "D=(b*b)-4*a*c\n",
    "E=pow(D,0.5)\n",
    "if D>0:\n",
    "    r1=(-b+E)/2*a\n",
    "    r2=(-b-E)/2*a\n",
    "    print(r1,r2)\n",
    "elif D==0:\n",
    "    r1=-b/2*a\n",
    "    r2=-b/2*a\n",
    "    print(r1,r2)\n",
    "elif D<0:\n",
    "    r1=(-b/2*a)+i*E/2*a\n",
    "    r2=(-b/2*a)-i*E/2*a\n",
    "    print(r1,r2)"
   ]
  },
  {
   "cell_type": "markdown",
   "id": "9c4b3c92",
   "metadata": {},
   "source": [
    "# sum of natural number upto n"
   ]
  },
  {
   "cell_type": "code",
   "execution_count": 20,
   "id": "74c268b3",
   "metadata": {},
   "outputs": [
    {
     "name": "stdout",
     "output_type": "stream",
     "text": [
      "enter the number3\n",
      "6.0\n"
     ]
    }
   ],
   "source": [
    "number=int(input(\"enter the number\"))\n",
    "sum=(number+1)*number/2\n",
    "print(sum)\n",
    "    "
   ]
  },
  {
   "cell_type": "code",
   "execution_count": 23,
   "id": "019f89d0",
   "metadata": {},
   "outputs": [
    {
     "name": "stdout",
     "output_type": "stream",
     "text": [
      "enter the number4\n",
      "10\n"
     ]
    }
   ],
   "source": [
    "number=int(input(\"enter the number\"))\n",
    "sum=0\n",
    "for i in range(1,number+1):\n",
    "    sum=sum+i\n",
    "print(sum)"
   ]
  },
  {
   "cell_type": "markdown",
   "id": "cb9f706d",
   "metadata": {},
   "source": [
    "# sum of even number"
   ]
  },
  {
   "cell_type": "code",
   "execution_count": 25,
   "id": "b5b0273e",
   "metadata": {},
   "outputs": [
    {
     "name": "stdout",
     "output_type": "stream",
     "text": [
      "enter the number4\n",
      "6\n"
     ]
    }
   ],
   "source": [
    "number=int(input(\"enter the number\"))\n",
    "sum=0\n",
    "for i in range(0,number+1,2):\n",
    "    sum=sum+i\n",
    "print(sum)\n",
    "    "
   ]
  },
  {
   "cell_type": "markdown",
   "id": "35141ab2",
   "metadata": {},
   "source": [
    "# find the number of digit in a number like 7892"
   ]
  },
  {
   "cell_type": "code",
   "execution_count": 26,
   "id": "c1df751c",
   "metadata": {},
   "outputs": [
    {
     "name": "stdout",
     "output_type": "stream",
     "text": [
      "enter the number 7892\n",
      "4\n"
     ]
    }
   ],
   "source": [
    "number=int(input(\"enter the number \"))\n",
    "count=0\n",
    "while number>0:\n",
    "    number=number//10\n",
    "    count=count+1\n",
    "print(count)"
   ]
  },
  {
   "cell_type": "markdown",
   "id": "238fd318",
   "metadata": {},
   "source": [
    "# find prime number"
   ]
  },
  {
   "cell_type": "code",
   "execution_count": 27,
   "id": "9ff54ddd",
   "metadata": {},
   "outputs": [
    {
     "name": "stdout",
     "output_type": "stream",
     "text": [
      "enter the number 5\n",
      "5 is prime a number\n"
     ]
    }
   ],
   "source": [
    "n=int(input(\"enter the number \"))\n",
    "for i in range(2,n):\n",
    "    if n%i==0:\n",
    "        print(n,\"is NOT prime a number\")\n",
    "        break\n",
    "else:\n",
    "    print(n,\"is prime a number\")"
   ]
  },
  {
   "cell_type": "markdown",
   "id": "c60ecc49",
   "metadata": {},
   "source": [
    "# find reverse of a number 123-321\n"
   ]
  },
  {
   "cell_type": "code",
   "execution_count": 28,
   "id": "907d56be",
   "metadata": {},
   "outputs": [
    {
     "name": "stdout",
     "output_type": "stream",
     "text": [
      "enter the number 456\n",
      "654\n"
     ]
    }
   ],
   "source": [
    "n=int(input(\"enter the number \"))\n",
    "rev=0\n",
    "while (n>0):\n",
    "    rev=(n%10)+(rev*10)\n",
    "    n=n//10\n",
    "print(rev)"
   ]
  },
  {
   "cell_type": "code",
   "execution_count": null,
   "id": "ed6b94e4",
   "metadata": {},
   "outputs": [],
   "source": []
  }
 ],
 "metadata": {
  "kernelspec": {
   "display_name": "Python 3 (ipykernel)",
   "language": "python",
   "name": "python3"
  },
  "language_info": {
   "codemirror_mode": {
    "name": "ipython",
    "version": 3
   },
   "file_extension": ".py",
   "mimetype": "text/x-python",
   "name": "python",
   "nbconvert_exporter": "python",
   "pygments_lexer": "ipython3",
   "version": "3.9.7"
  }
 },
 "nbformat": 4,
 "nbformat_minor": 5
}
